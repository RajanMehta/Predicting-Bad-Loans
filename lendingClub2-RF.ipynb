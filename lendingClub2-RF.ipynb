{
 "cells": [
  {
   "cell_type": "code",
   "execution_count": 1,
   "metadata": {},
   "outputs": [],
   "source": [
    "import pandas as pd\n",
    "import numpy as np\n",
    "\n",
    "import matplotlib.pyplot as plt\n",
    "from matplotlib.colors import ListedColormap\n",
    "\n",
    "%matplotlib inline"
   ]
  },
  {
   "cell_type": "code",
   "execution_count": 2,
   "metadata": {},
   "outputs": [
    {
     "data": {
      "text/html": [
       "<div>\n",
       "<style scoped>\n",
       "    .dataframe tbody tr th:only-of-type {\n",
       "        vertical-align: middle;\n",
       "    }\n",
       "\n",
       "    .dataframe tbody tr th {\n",
       "        vertical-align: top;\n",
       "    }\n",
       "\n",
       "    .dataframe thead th {\n",
       "        text-align: right;\n",
       "    }\n",
       "</style>\n",
       "<table border=\"1\" class=\"dataframe\">\n",
       "  <thead>\n",
       "    <tr style=\"text-align: right;\">\n",
       "      <th></th>\n",
       "      <th>Loan_Amnt</th>\n",
       "      <th>annual_inc</th>\n",
       "      <th>dti</th>\n",
       "      <th>Grade_Ord</th>\n",
       "      <th>Emp_Length_Ord</th>\n",
       "      <th>Home_Own_Mortage</th>\n",
       "      <th>Home_Rent_Other</th>\n",
       "      <th>Verification_Status_Yes</th>\n",
       "      <th>Verification_Status_No</th>\n",
       "      <th>Term_36</th>\n",
       "      <th>...</th>\n",
       "      <th>Delinq_2Yrs_No</th>\n",
       "      <th>Years_Since_CR_Line</th>\n",
       "      <th>mths_since_last_delinq</th>\n",
       "      <th>revol_bal</th>\n",
       "      <th>revol_util</th>\n",
       "      <th>open_acc</th>\n",
       "      <th>total_acc</th>\n",
       "      <th>pub_rec</th>\n",
       "      <th>pub_rec_bankruptcies</th>\n",
       "      <th>Loan_Status_Final</th>\n",
       "    </tr>\n",
       "  </thead>\n",
       "  <tbody>\n",
       "    <tr>\n",
       "      <th>0</th>\n",
       "      <td>5000</td>\n",
       "      <td>24000.0</td>\n",
       "      <td>27.65</td>\n",
       "      <td>2</td>\n",
       "      <td>10.0</td>\n",
       "      <td>0</td>\n",
       "      <td>1</td>\n",
       "      <td>1</td>\n",
       "      <td>0</td>\n",
       "      <td>1</td>\n",
       "      <td>...</td>\n",
       "      <td>1</td>\n",
       "      <td>26</td>\n",
       "      <td>0</td>\n",
       "      <td>13648</td>\n",
       "      <td>83.7</td>\n",
       "      <td>3</td>\n",
       "      <td>9</td>\n",
       "      <td>0</td>\n",
       "      <td>0</td>\n",
       "      <td>0</td>\n",
       "    </tr>\n",
       "    <tr>\n",
       "      <th>1</th>\n",
       "      <td>2500</td>\n",
       "      <td>30000.0</td>\n",
       "      <td>1.00</td>\n",
       "      <td>3</td>\n",
       "      <td>0.5</td>\n",
       "      <td>0</td>\n",
       "      <td>1</td>\n",
       "      <td>1</td>\n",
       "      <td>0</td>\n",
       "      <td>0</td>\n",
       "      <td>...</td>\n",
       "      <td>1</td>\n",
       "      <td>12</td>\n",
       "      <td>0</td>\n",
       "      <td>1687</td>\n",
       "      <td>9.4</td>\n",
       "      <td>3</td>\n",
       "      <td>4</td>\n",
       "      <td>0</td>\n",
       "      <td>0</td>\n",
       "      <td>1</td>\n",
       "    </tr>\n",
       "    <tr>\n",
       "      <th>2</th>\n",
       "      <td>2400</td>\n",
       "      <td>12252.0</td>\n",
       "      <td>8.72</td>\n",
       "      <td>3</td>\n",
       "      <td>10.0</td>\n",
       "      <td>0</td>\n",
       "      <td>1</td>\n",
       "      <td>0</td>\n",
       "      <td>1</td>\n",
       "      <td>1</td>\n",
       "      <td>...</td>\n",
       "      <td>1</td>\n",
       "      <td>10</td>\n",
       "      <td>0</td>\n",
       "      <td>2956</td>\n",
       "      <td>98.5</td>\n",
       "      <td>2</td>\n",
       "      <td>10</td>\n",
       "      <td>0</td>\n",
       "      <td>0</td>\n",
       "      <td>0</td>\n",
       "    </tr>\n",
       "    <tr>\n",
       "      <th>3</th>\n",
       "      <td>10000</td>\n",
       "      <td>49200.0</td>\n",
       "      <td>20.00</td>\n",
       "      <td>3</td>\n",
       "      <td>10.0</td>\n",
       "      <td>0</td>\n",
       "      <td>1</td>\n",
       "      <td>1</td>\n",
       "      <td>0</td>\n",
       "      <td>1</td>\n",
       "      <td>...</td>\n",
       "      <td>1</td>\n",
       "      <td>15</td>\n",
       "      <td>35</td>\n",
       "      <td>5598</td>\n",
       "      <td>21.0</td>\n",
       "      <td>10</td>\n",
       "      <td>37</td>\n",
       "      <td>0</td>\n",
       "      <td>0</td>\n",
       "      <td>0</td>\n",
       "    </tr>\n",
       "    <tr>\n",
       "      <th>4</th>\n",
       "      <td>3000</td>\n",
       "      <td>80000.0</td>\n",
       "      <td>17.94</td>\n",
       "      <td>2</td>\n",
       "      <td>1.0</td>\n",
       "      <td>0</td>\n",
       "      <td>1</td>\n",
       "      <td>1</td>\n",
       "      <td>0</td>\n",
       "      <td>0</td>\n",
       "      <td>...</td>\n",
       "      <td>1</td>\n",
       "      <td>15</td>\n",
       "      <td>38</td>\n",
       "      <td>27783</td>\n",
       "      <td>53.9</td>\n",
       "      <td>15</td>\n",
       "      <td>38</td>\n",
       "      <td>0</td>\n",
       "      <td>0</td>\n",
       "      <td>0</td>\n",
       "    </tr>\n",
       "  </tbody>\n",
       "</table>\n",
       "<p>5 rows × 37 columns</p>\n",
       "</div>"
      ],
      "text/plain": [
       "   Loan_Amnt  annual_inc    dti  Grade_Ord  Emp_Length_Ord  Home_Own_Mortage  \\\n",
       "0       5000     24000.0  27.65          2            10.0                 0   \n",
       "1       2500     30000.0   1.00          3             0.5                 0   \n",
       "2       2400     12252.0   8.72          3            10.0                 0   \n",
       "3      10000     49200.0  20.00          3            10.0                 0   \n",
       "4       3000     80000.0  17.94          2             1.0                 0   \n",
       "\n",
       "   Home_Rent_Other  Verification_Status_Yes  Verification_Status_No  Term_36  \\\n",
       "0                1                        1                       0        1   \n",
       "1                1                        1                       0        0   \n",
       "2                1                        0                       1        1   \n",
       "3                1                        1                       0        1   \n",
       "4                1                        1                       0        0   \n",
       "\n",
       "         ...          Delinq_2Yrs_No Years_Since_CR_Line  \\\n",
       "0        ...                       1                  26   \n",
       "1        ...                       1                  12   \n",
       "2        ...                       1                  10   \n",
       "3        ...                       1                  15   \n",
       "4        ...                       1                  15   \n",
       "\n",
       "   mths_since_last_delinq  revol_bal  revol_util  open_acc  total_acc  \\\n",
       "0                       0      13648        83.7         3          9   \n",
       "1                       0       1687         9.4         3          4   \n",
       "2                       0       2956        98.5         2         10   \n",
       "3                      35       5598        21.0        10         37   \n",
       "4                      38      27783        53.9        15         38   \n",
       "\n",
       "   pub_rec  pub_rec_bankruptcies  Loan_Status_Final  \n",
       "0        0                     0                  0  \n",
       "1        0                     0                  1  \n",
       "2        0                     0                  0  \n",
       "3        0                     0                  0  \n",
       "4        0                     0                  0  \n",
       "\n",
       "[5 rows x 37 columns]"
      ]
     },
     "execution_count": 2,
     "metadata": {},
     "output_type": "execute_result"
    }
   ],
   "source": [
    "# read excel file \n",
    "x1 = pd.ExcelFile('lendingClub2.xls')\n",
    "data = x1.parse(\"Cleansed_Data_20180420\")\n",
    "\n",
    "# display the first 5 rows\n",
    "data.head()"
   ]
  },
  {
   "cell_type": "code",
   "execution_count": 3,
   "metadata": {},
   "outputs": [
    {
     "data": {
      "text/plain": [
       "37"
      ]
     },
     "execution_count": 3,
     "metadata": {},
     "output_type": "execute_result"
    }
   ],
   "source": [
    "#[str(r) for r in data.columns.values]\n",
    "len(data.columns.values)"
   ]
  },
  {
   "cell_type": "code",
   "execution_count": 3,
   "metadata": {},
   "outputs": [],
   "source": [
    "from sklearn.preprocessing import StandardScaler\n",
    "\n",
    "y = data.Loan_Status_Final.values\n",
    "X = data.drop(['Loan_Status_Final', 'Purpose'], axis=1)\n",
    "\n",
    "ScaledX = StandardScaler().fit_transform(X)"
   ]
  },
  {
   "cell_type": "code",
   "execution_count": 4,
   "metadata": {},
   "outputs": [
    {
     "data": {
      "text/plain": [
       "SelectPercentile(percentile=50,\n",
       "         score_func=<function f_classif at 0x000000000E140668>)"
      ]
     },
     "execution_count": 4,
     "metadata": {},
     "output_type": "execute_result"
    }
   ],
   "source": [
    "from sklearn.feature_selection import SelectPercentile, f_classif\n",
    "\n",
    "# #############################################################################\n",
    "# Univariate feature selection with F-test for feature scoring\n",
    "# We use the default selection function: the 20% most significant features\n",
    "\n",
    "X_indices = np.arange(X.shape[-1])\n",
    "selector = SelectPercentile(f_classif, percentile=50)\n",
    "selector.fit(ScaledX, y)"
   ]
  },
  {
   "cell_type": "code",
   "execution_count": 38,
   "metadata": {},
   "outputs": [],
   "source": [
    "# def replaceZeroes(data):\n",
    "#   min_nonzero = np.min(data[np.nonzero(data)])\n",
    "#   data[data == 0] = min_nonzero\n",
    "#   return data\n",
    "\n",
    "# scores = -np.log10(replaceZeroes(selector.pvalues_))\n",
    "# scores /= scores.max()\n",
    "\n",
    "# print(scores)\n",
    "# print(np.where(scores > 0.3))\n",
    "\n",
    "# plt.figure(figsize=(10,6))\n",
    "# plt.bar(X_indices - .45, scores, width=.3,\n",
    "#         label=r'Univariate score ($-Log(p_{value})$)', color='darkorange',\n",
    "#         edgecolor='black')"
   ]
  },
  {
   "cell_type": "code",
   "execution_count": 5,
   "metadata": {},
   "outputs": [],
   "source": [
    "from sklearn.model_selection import train_test_split\n",
    "from imblearn.over_sampling import SMOTE, RandomOverSampler"
   ]
  },
  {
   "cell_type": "code",
   "execution_count": 6,
   "metadata": {},
   "outputs": [
    {
     "name": "stderr",
     "output_type": "stream",
     "text": [
      "C:\\Users\\Rajan\\Anaconda2\\envs\\lendingClub\\lib\\site-packages\\sklearn\\cross_validation.py:41: DeprecationWarning: This module was deprecated in version 0.18 in favor of the model_selection module into which all the refactored classes and functions are moved. Also note that the interface of the new CV iterators are different from that of this module. This module will be removed in 0.20.\n",
      "  \"This module will be removed in 0.20.\", DeprecationWarning)\n",
      "C:\\Users\\Rajan\\Anaconda2\\envs\\lendingClub\\lib\\site-packages\\sklearn\\grid_search.py:42: DeprecationWarning: This module was deprecated in version 0.18 in favor of the model_selection module into which all the refactored classes and functions are moved. This module will be removed in 0.20.\n",
      "  DeprecationWarning)\n"
     ]
    },
    {
     "data": {
      "text/plain": [
       "GridSearchCV(cv=10, error_score='raise',\n",
       "       estimator=RandomForestClassifier(bootstrap=True, class_weight=None, criterion='gini',\n",
       "            max_depth=None, max_features='auto', max_leaf_nodes=None,\n",
       "            min_impurity_decrease=0.0, min_impurity_split=None,\n",
       "            min_samples_leaf=1, min_samples_split=2,\n",
       "            min_weight_fraction_leaf=0.0, n_estimators=25, n_jobs=-1,\n",
       "            oob_score=False, random_state=42, verbose=0, warm_start=False),\n",
       "       fit_params={}, iid=True, n_jobs=1,\n",
       "       param_grid={'max_features': ['sqrt', 'log2'], 'max_depth': array([25, 26, 27, 28, 29])},\n",
       "       pre_dispatch='2*n_jobs', refit=True, scoring=None, verbose=0)"
      ]
     },
     "execution_count": 6,
     "metadata": {},
     "output_type": "execute_result"
    }
   ],
   "source": [
    "from sklearn.grid_search import GridSearchCV\n",
    "from sklearn.ensemble import RandomForestClassifier\n",
    "\n",
    "sm = SMOTE(random_state=12, ratio = 'minority')\n",
    "X_train_res, y_train_res = sm.fit_sample(ScaledX, y)\n",
    "\n",
    "rf = RandomForestClassifier(n_estimators=25, n_jobs=-1, random_state=42)\n",
    "param_grid = {'max_features':['sqrt', 'log2'],'max_depth': np.arange(25, 30)}\n",
    "\n",
    "grid = GridSearchCV(rf, param_grid, cv=10)\n",
    "grid.fit(X_train_res,y_train_res)"
   ]
  },
  {
   "cell_type": "code",
   "execution_count": 7,
   "metadata": {},
   "outputs": [
    {
     "name": "stdout",
     "output_type": "stream",
     "text": [
      "0.888898575995\n",
      "{'max_features': 'sqrt', 'max_depth': 27}\n",
      "RandomForestClassifier(bootstrap=True, class_weight=None, criterion='gini',\n",
      "            max_depth=27, max_features='sqrt', max_leaf_nodes=None,\n",
      "            min_impurity_decrease=0.0, min_impurity_split=None,\n",
      "            min_samples_leaf=1, min_samples_split=2,\n",
      "            min_weight_fraction_leaf=0.0, n_estimators=25, n_jobs=-1,\n",
      "            oob_score=False, random_state=42, verbose=0, warm_start=False)\n"
     ]
    }
   ],
   "source": [
    "print grid.best_score_\n",
    "print grid.best_params_\n",
    "print grid.best_estimator_"
   ]
  },
  {
   "cell_type": "code",
   "execution_count": 11,
   "metadata": {},
   "outputs": [
    {
     "name": "stdout",
     "output_type": "stream",
     "text": [
      "[mean: 0.88264, std: 0.08016, params: {'max_features': 'sqrt', 'max_depth': 25}, mean: 0.88264, std: 0.08016, params: {'max_features': 'log2', 'max_depth': 25}, mean: 0.88711, std: 0.07926, params: {'max_features': 'sqrt', 'max_depth': 26}, mean: 0.88711, std: 0.07926, params: {'max_features': 'log2', 'max_depth': 26}, mean: 0.88890, std: 0.07783, params: {'max_features': 'sqrt', 'max_depth': 27}, mean: 0.88890, std: 0.07783, params: {'max_features': 'log2', 'max_depth': 27}, mean: 0.88806, std: 0.07985, params: {'max_features': 'sqrt', 'max_depth': 28}, mean: 0.88806, std: 0.07985, params: {'max_features': 'log2', 'max_depth': 28}, mean: 0.88609, std: 0.08084, params: {'max_features': 'sqrt', 'max_depth': 29}, mean: 0.88609, std: 0.08084, params: {'max_features': 'log2', 'max_depth': 29}]\n"
     ]
    }
   ],
   "source": [
    "print grid.grid_scores_"
   ]
  },
  {
   "cell_type": "code",
   "execution_count": 10,
   "metadata": {},
   "outputs": [
    {
     "name": "stdout",
     "output_type": "stream",
     "text": [
      "[0.6660418482999129, 0.6660418482999129, 0.6792792792792792, 0.6792792792792792, 0.6811537343795409, 0.6811537343795409, 0.6991572217378669, 0.6991572217378669, 0.7118715489683232, 0.7118715489683232, 0.723539668700959, 0.723539668700959, 0.7422260970648067, 0.7422260970648067, 0.7558558558558559, 0.7558558558558559, 0.7674658529497239, 0.7674658529497239, 0.7824905550712002, 0.7824905550712002, 0.794739901191514, 0.794739901191514, 0.8071200232490555, 0.8071200232490555, 0.8186283057250799, 0.8186283057250799, 0.8298023830281894, 0.8298023830281894, 0.8393054344667248, 0.8393054344667248, 0.8478494623655914, 0.8478494623655914, 0.8529642545771579, 0.8529642545771579, 0.861057832025574, 0.861057832025574, 0.8679453647195583, 0.8679453647195583, 0.8715344376634699, 0.8715344376634699, 0.8766928218541121, 0.8766928218541121, 0.880514385353095, 0.880514385353095, 0.8826358616681197, 0.8826358616681197, 0.8871113048532403, 0.8871113048532403, 0.8888985759953502, 0.8888985759953502, 0.8880557977332171, 0.8880557977332171, 0.8860941586748038, 0.8860941586748038]\n"
     ]
    }
   ],
   "source": [
    "# create a list of the mean scores only\n",
    "grid_mean_scores = [result.mean_validation_score for result in grid.grid_scores_]\n",
    "print grid_mean_scores"
   ]
  },
  {
   "cell_type": "code",
   "execution_count": 8,
   "metadata": {},
   "outputs": [
    {
     "data": {
      "text/plain": [
       "RandomForestClassifier(bootstrap=True, class_weight=None, criterion='gini',\n",
       "            max_depth=27, max_features='sqrt', max_leaf_nodes=None,\n",
       "            min_impurity_decrease=0.0, min_impurity_split=None,\n",
       "            min_samples_leaf=1, min_samples_split=2,\n",
       "            min_weight_fraction_leaf=0.0, n_estimators=25, n_jobs=1,\n",
       "            oob_score=False, random_state=None, verbose=0,\n",
       "            warm_start=False)"
      ]
     },
     "execution_count": 8,
     "metadata": {},
     "output_type": "execute_result"
    }
   ],
   "source": [
    "from sklearn.ensemble import RandomForestClassifier\n",
    "sm = SMOTE(random_state=12, ratio = 'minority')\n",
    "X_train_res, y_train_res = sm.fit_sample(ScaledX, y)\n",
    "X_train, X_test, y_train, y_test = train_test_split(X_train_res, y_train_res, random_state=42)\n",
    "\n",
    "clf = RandomForestClassifier(n_estimators=25, max_features='sqrt', max_depth=27)\n",
    "\n",
    "clf.fit(X_train,y_train)"
   ]
  },
  {
   "cell_type": "code",
   "execution_count": 9,
   "metadata": {},
   "outputs": [
    {
     "data": {
      "image/png": "[encoded data removed]",
      "text/plain": [
       "<Figure size 432x288 with 1 Axes>"
      ]
     },
     "metadata": {},
     "output_type": "display_data"
    }
   ],
   "source": [
    "from sklearn import metrics\n",
    "y_pred = clf.predict(X_test)\n",
    "\n",
    "false_positive_rate, true_positive_rate, thresholds = metrics.roc_curve(y_test, y_pred)\n",
    "roc_auc = metrics.auc(false_positive_rate, true_positive_rate)\n",
    "\n",
    "plt.title('Receiver Operating Characteristic')\n",
    "plt.plot(false_positive_rate, true_positive_rate, 'b',\n",
    "label='AUC = %0.2f'% roc_auc)\n",
    "plt.legend(loc='lower right')\n",
    "plt.plot([0,1],[0,1],'r--')\n",
    "plt.xlim([-0.1,1.1])\n",
    "plt.ylim([-0.1,1.1])\n",
    "plt.ylabel('True Positive Rate')\n",
    "plt.xlabel('False Positive Rate')\n",
    "plt.show()"
   ]
  },
  {
   "cell_type": "code",
   "execution_count": 57,
   "metadata": {},
   "outputs": [
    {
     "name": "stdout",
     "output_type": "stream",
     "text": [
      "[0 1 0 0 0 1 1 1 1 1 0 1 0 1 0 0 0 1 0 1 0 1 1 0 0 1 0 1 0 0 0 0 1 1 1 1 0\n",
      " 1 0 1 1 1 0 0 1 1 0 0 1]\n",
      "[0 1 0 0 0 1 1 1 1 1 0 1 0 1 0 0 0 1 0 1 0 1 1 0 0 1 0 1 0 0 0 0 1 1 1 1 0\n",
      " 1 0 1 1 1 0 0 1 0 0 0 0]\n"
     ]
    }
   ],
   "source": [
    "print y_test[1:50]\n",
    "print y_pred[1:50]"
   ]
  },
  {
   "cell_type": "code",
   "execution_count": 58,
   "metadata": {},
   "outputs": [
    {
     "name": "stdout",
     "output_type": "stream",
     "text": [
      "[[7679  889]\n",
      " [ 926 7711]]\n"
     ]
    }
   ],
   "source": [
    "print metrics.confusion_matrix(y_test, y_pred)"
   ]
  },
  {
   "cell_type": "code",
   "execution_count": 10,
   "metadata": {},
   "outputs": [
    {
     "name": "stderr",
     "output_type": "stream",
     "text": [
      "C:\\Users\\Rajan\\Anaconda2\\envs\\lendingClub\\lib\\site-packages\\sklearn\\learning_curve.py:22: DeprecationWarning: This module was deprecated in version 0.18 in favor of the model_selection module into which all the functions are moved. This module will be removed in 0.20\n",
      "  DeprecationWarning)\n"
     ]
    },
    {
     "data": {
      "text/plain": [
       "<matplotlib.legend.Legend at 0xfe44ef0>"
      ]
     },
     "execution_count": 10,
     "metadata": {},
     "output_type": "execute_result"
    },
    {
     "data": {
      "image/png": "[encoded data removed]",
      "text/plain": [
       "<Figure size 432x288 with 1 Axes>"
      ]
     },
     "metadata": {},
     "output_type": "display_data"
    }
   ],
   "source": [
    "from sklearn.learning_curve import learning_curve\n",
    "\n",
    "train_sizes, train_scores, test_scores = learning_curve(clf, X_train, y_train, cv=None, n_jobs=1, train_sizes=np.linspace(.1, 1.0, 5))\n",
    "\n",
    "train_scores_mean = np.mean(train_scores, axis=1)\n",
    "train_scores_std = np.std(train_scores, axis=1)\n",
    "test_scores_mean = np.mean(test_scores, axis=1)\n",
    "test_scores_std = np.std(test_scores, axis=1)\n",
    "\n",
    "plt.fill_between(train_sizes, train_scores_mean - train_scores_std,\n",
    "                     train_scores_mean + train_scores_std, alpha=0.1,\n",
    "                     color=\"r\")\n",
    "plt.fill_between(train_sizes, test_scores_mean - test_scores_std,\n",
    "                     test_scores_mean + test_scores_std, alpha=0.1, color=\"g\")\n",
    "plt.plot(train_sizes, train_scores_mean, 'o-', color=\"r\",\n",
    "             label=\"Training score\")\n",
    "plt.plot(train_sizes, test_scores_mean, 'o-', color=\"g\",\n",
    "             label=\"Cross-validation score\")\n",
    "\n",
    "plt.legend(loc=\"best\")"
   ]
  },
  {
   "cell_type": "code",
   "execution_count": 34,
   "metadata": {},
   "outputs": [
    {
     "data": {
      "text/plain": [
       "array([[0.78      , 0.22      ],\n",
       "       [0.9521746 , 0.0478254 ],\n",
       "       [0.04431108, 0.95568892],\n",
       "       ...,\n",
       "       [0.29054078, 0.70945922],\n",
       "       [0.71692308, 0.28307692],\n",
       "       [0.16      , 0.84      ]])"
      ]
     },
     "execution_count": 34,
     "metadata": {},
     "output_type": "execute_result"
    }
   ],
   "source": [
    "predicted_probas = clf.predict_proba(X_test)\n",
    "predicted_probas"
   ]
  },
  {
   "cell_type": "code",
   "execution_count": 37,
   "metadata": {
    "scrolled": true
   },
   "outputs": [
    {
     "data": {
      "image/png": "[encoded data removed]",
      "text/plain": [
       "<Figure size 432x288 with 1 Axes>"
      ]
     },
     "metadata": {},
     "output_type": "display_data"
    }
   ],
   "source": [
    "import scikitplot as skplt\n",
    "skplt.metrics.plot_lift_curve(y_test, predicted_probas)\n",
    "plt.show()"
   ]
  },
  {
   "cell_type": "code",
   "execution_count": 16,
   "metadata": {
    "scrolled": true
   },
   "outputs": [
    {
     "name": "stdout",
     "output_type": "stream",
     "text": [
      "Feature ranking:\n",
      "Feature Grade_Ord (0.191015)\n",
      "Feature Emp_Length_Ord (0.084509)\n",
      "Feature annual_inc (0.077171)\n",
      "Feature open_acc (0.074166)\n",
      "Feature Years_Since_CR_Line (0.073566)\n",
      "Feature revol_util (0.070949)\n",
      "Feature Loan_Amnt (0.065355)\n",
      "Feature total_acc (0.063465)\n",
      "Feature dti (0.062995)\n",
      "Feature revol_bal (0.060795)\n",
      "Feature mths_since_last_delinq (0.033705)\n",
      "Feature Term_36 (0.015846)\n",
      "Feature Term_60 (0.011938)\n",
      "Feature Verification_Status_Yes (0.010428)\n",
      "Feature Home_Rent_Other (0.010034)\n",
      "Feature P_debt_consolidation (0.009849)\n",
      "Feature Verification_Status_No (0.009654)\n",
      "Feature Home_Own_Mortage (0.009394)\n",
      "Feature P_small_business (0.008015)\n",
      "Feature P_credit_card (0.006949)\n",
      "Feature P_other (0.006815)\n",
      "Feature pub_rec (0.005554)\n",
      "Feature Delinq_2Yrs_No (0.005165)\n",
      "Feature P_home_improvement (0.004972)\n",
      "Feature Delinq_2Yrs_Yes (0.004827)\n",
      "Feature P_major_purchase (0.003792)\n",
      "Feature pub_rec_bankruptcies (0.003430)\n",
      "Feature P_car (0.003421)\n",
      "Feature P_wedding (0.002740)\n",
      "Feature P_moving (0.002481)\n",
      "Feature P_medical (0.002215)\n",
      "Feature P_vacation (0.001614)\n",
      "Feature P_educational (0.001469)\n",
      "Feature P_house (0.001167)\n",
      "Feature P_renewable_energy (0.000541)\n"
     ]
    },
    {
     "data": {
      "image/png": "[encoded data removed]",
      "text/plain": [
       "<Figure size 432x288 with 1 Axes>"
      ]
     },
     "metadata": {},
     "output_type": "display_data"
    }
   ],
   "source": [
    "# get feature importance scores from the best random forest model\n",
    "feature_importance = grid.best_estimator_.feature_importances_\n",
    "\n",
    "# get the corresonding column names\n",
    "columns = data.drop(['Loan_Status_Final', 'Purpose'], axis=1).columns\n",
    "\n",
    "# get the standard deviation of these feature importance scores\n",
    "std = np.std([clf.feature_importances_ for clf in grid.best_estimator_], axis=0)\n",
    "\n",
    "# sort the feature importance scores\n",
    "indices = np.argsort(feature_importance)[::-1]\n",
    "\n",
    "# Print sorted feature ranking\n",
    "print(\"Feature ranking:\")\n",
    "for i in range(len(columns)):\n",
    "    print(\"Feature %s (%f)\" % (columns[indices[i]], feature_importance[indices[i]]))\n",
    "\n",
    "# Plot the feature importances of the forest\n",
    "plt.figure()\n",
    "# visualize only the top 15 important features\n",
    "top_n = 15\n",
    "plt.title(\"Feature importances (top %d features)\"%(top_n), fontsize=14)\n",
    "plt.barh(range(top_n), feature_importance[indices][:top_n],\n",
    "       color=\"m\", yerr=std[indices][:top_n], align=\"center\")\n",
    "plt.yticks(range(top_n), columns[indices][:top_n], fontsize=12)\n",
    "plt.ylim([-1, top_n])\n",
    "plt.gca().invert_yaxis()\n",
    "plt.show()"
   ]
  },
  {
   "cell_type": "code",
   "execution_count": 19,
   "metadata": {},
   "outputs": [
    {
     "data": {
      "text/plain": [
       "RandomForestClassifier(bootstrap=True, class_weight=None, criterion='gini',\n",
       "            max_depth=27, max_features='sqrt', max_leaf_nodes=None,\n",
       "            min_impurity_decrease=0.0, min_impurity_split=None,\n",
       "            min_samples_leaf=1, min_samples_split=2,\n",
       "            min_weight_fraction_leaf=0.0, n_estimators=25, n_jobs=1,\n",
       "            oob_score=False, random_state=None, verbose=0,\n",
       "            warm_start=False)"
      ]
     },
     "execution_count": 19,
     "metadata": {},
     "output_type": "execute_result"
    }
   ],
   "source": [
    "newX = X[['Grade_Ord', 'Emp_Length_Ord', 'annual_inc', 'open_acc', 'Years_Since_CR_Line']]\n",
    "\n",
    "newScaledX = StandardScaler().fit_transform(newX)\n",
    "\n",
    "X_train_res, y_train_res = sm.fit_sample(newScaledX, y)\n",
    "X_train, X_test, y_train, y_test = train_test_split(X_train_res, y_train_res, random_state=42)\n",
    "\n",
    "clf = RandomForestClassifier(n_estimators=25, max_features='sqrt', max_depth=27)\n",
    "\n",
    "clf.fit(X_train,y_train)"
   ]
  },
  {
   "cell_type": "code",
   "execution_count": 20,
   "metadata": {},
   "outputs": [
    {
     "data": {
      "image/png": "[encoded data removed]",
      "text/plain": [
       "<Figure size 432x288 with 1 Axes>"
      ]
     },
     "metadata": {},
     "output_type": "display_data"
    }
   ],
   "source": [
    "from sklearn import metrics\n",
    "y_pred = clf.predict(X_test)\n",
    "\n",
    "false_positive_rate, true_positive_rate, thresholds = metrics.roc_curve(y_test, y_pred)\n",
    "roc_auc = metrics.auc(false_positive_rate, true_positive_rate)\n",
    "\n",
    "plt.title('Receiver Operating Characteristic')\n",
    "plt.plot(false_positive_rate, true_positive_rate, 'b',\n",
    "label='AUC = %0.2f'% roc_auc)\n",
    "plt.legend(loc='lower right')\n",
    "plt.plot([0,1],[0,1],'r--')\n",
    "plt.xlim([-0.1,1.1])\n",
    "plt.ylim([-0.1,1.1])\n",
    "plt.ylabel('True Positive Rate')\n",
    "plt.xlabel('False Positive Rate')\n",
    "plt.show()"
   ]
  },
  {
   "cell_type": "code",
   "execution_count": 21,
   "metadata": {},
   "outputs": [
    {
     "name": "stderr",
     "output_type": "stream",
     "text": [
      "C:\\Users\\Rajan\\Anaconda2\\envs\\lendingClub\\lib\\site-packages\\scikitplot\\plotters.py:37: DeprecationWarning: This module was deprecated in version 0.3.0 and its functions are spread throughout different modules. Please check the documentation and update your function calls as soon as possible. This module will be removed in 0.4.0\n",
      "  DeprecationWarning)\n",
      "C:\\Users\\Rajan\\Anaconda2\\envs\\lendingClub\\lib\\site-packages\\matplotlib\\cbook\\deprecation.py:107: MatplotlibDeprecationWarning: Passing one of 'on', 'true', 'off', 'false' as a boolean is deprecated; use an actual boolean (True/False) instead.\n",
      "  warnings.warn(message, mplDeprecation, stacklevel=1)\n"
     ]
    },
    {
     "data": {
      "image/png": "[encoded data removed]",
      "text/plain": [
       "<Figure size 432x288 with 1 Axes>"
      ]
     },
     "metadata": {},
     "output_type": "display_data"
    }
   ],
   "source": [
    "predicted_probas = clf.predict_proba(X_test)\n",
    "\n",
    "import scikitplot as skplt\n",
    "skplt.metrics.plot_lift_curve(y_test, predicted_probas)\n",
    "plt.show()"
   ]
  }
 ],
 "metadata": {
  "kernelspec": {
   "display_name": "Python 2",
   "language": "python",
   "name": "python2"
  },
  "language_info": {
   "codemirror_mode": {
    "name": "ipython",
    "version": 2
   },
   "file_extension": ".py",
   "mimetype": "text/x-python",
   "name": "python",
   "nbconvert_exporter": "python",
   "pygments_lexer": "ipython2",
   "version": "2.7.14"
  }
 },
 "nbformat": 4,
 "nbformat_minor": 2
}
